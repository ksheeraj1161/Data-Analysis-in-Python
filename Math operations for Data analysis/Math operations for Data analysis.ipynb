{
 "cells": [
  {
   "cell_type": "markdown",
   "metadata": {},
   "source": [
    "# Math operations for Data analysis\n",
    "\n",
    "s.sum()\t                    Returns sum of all values in the series\n",
    "\n",
    "s.mean()\t                Returns mean of all values in series. Equals to s.sum()/s.count()\n",
    "\n",
    "s.std()\t                    Returns standard deviation of all values\n",
    "\n",
    "s.min() or s.max()\t        Return min and max values from series\n",
    "\n",
    "s.idxmin() or s.idxmax()\tReturns index of min or max value in series\n",
    "\n",
    "s.median()\t                Returns median of all value\n",
    "\n",
    "s.mode()\t                Returns mode of the series\n",
    "\n",
    "s.value_counts()\t        Returns series with frequency of each value\n",
    "\n",
    "s.describe()\t            Returns a series with information like mean, mode etc depending on dtype of data passed \n"
   ]
  },
  {
   "cell_type": "code",
   "execution_count": 11,
   "metadata": {},
   "outputs": [],
   "source": [
    "# import pandas for reading csv file\n",
    "import pandas as pd\n",
    "\n",
    "#reading csv file\n",
    "s = pd.read_csv(\"C:/Users/kandr/Desktop/PYTHON/Programming/Data Analysis/Math operations for Data analysis/price list.csv\", squeeze = True)"
   ]
  },
  {
   "cell_type": "code",
   "execution_count": 12,
   "metadata": {},
   "outputs": [
    {
     "name": "stdout",
     "output_type": "stream",
     "text": [
      "3012\n"
     ]
    }
   ],
   "source": [
    "#using count function\n",
    "print(s.count())"
   ]
  },
  {
   "cell_type": "code",
   "execution_count": 13,
   "metadata": {},
   "outputs": [
    {
     "name": "stdout",
     "output_type": "stream",
     "text": [
      "1006942.0\n"
     ]
    }
   ],
   "source": [
    "#using sum function\n",
    "print(s.sum())"
   ]
  },
  {
   "cell_type": "code",
   "execution_count": 14,
   "metadata": {},
   "outputs": [
    {
     "name": "stdout",
     "output_type": "stream",
     "text": [
      "334.31009296148744\n"
     ]
    }
   ],
   "source": [
    "#using mean function\n",
    "print(s.mean())\n"
   ]
  },
  {
   "cell_type": "code",
   "execution_count": 15,
   "metadata": {},
   "outputs": [
    {
     "name": "stdout",
     "output_type": "stream",
     "text": [
      "334.3100929614874\n"
     ]
    }
   ],
   "source": [
    "#calculatin average\n",
    "print(s.sum()/s.count())"
   ]
  },
  {
   "cell_type": "code",
   "execution_count": 16,
   "metadata": {},
   "outputs": [
    {
     "name": "stdout",
     "output_type": "stream",
     "text": [
      "173.18720477113106\n"
     ]
    }
   ],
   "source": [
    "#using std function\n",
    "print(s.std())"
   ]
  },
  {
   "cell_type": "code",
   "execution_count": 17,
   "metadata": {},
   "outputs": [
    {
     "name": "stdout",
     "output_type": "stream",
     "text": [
      "49.95\n"
     ]
    }
   ],
   "source": [
    "#using min function\n",
    "print(s.min())"
   ]
  },
  {
   "cell_type": "code",
   "execution_count": 18,
   "metadata": {},
   "outputs": [
    {
     "name": "stdout",
     "output_type": "stream",
     "text": [
      "782.22\n"
     ]
    }
   ],
   "source": [
    "#using max function\n",
    "print(s.max())"
   ]
  },
  {
   "cell_type": "code",
   "execution_count": 19,
   "metadata": {},
   "outputs": [
    {
     "name": "stdout",
     "output_type": "stream",
     "text": [
      "283.315\n"
     ]
    }
   ],
   "source": [
    "#using count function\n",
    "print(s.median())"
   ]
  },
  {
   "cell_type": "code",
   "execution_count": 20,
   "metadata": {},
   "outputs": [
    {
     "name": "stdout",
     "output_type": "stream",
     "text": [
      "0    291.21\n",
      "dtype: float64\n"
     ]
    }
   ],
   "source": [
    "#using mode function\n",
    "print(s.mode())"
   ]
  },
  {
   "cell_type": "code",
   "execution_count": 21,
   "metadata": {},
   "outputs": [
    {
     "name": "stdout",
     "output_type": "stream",
     "text": [
      "count    3012.000000\n",
      "mean      334.310093\n",
      "std       173.187205\n",
      "min        49.950000\n",
      "25%       218.045000\n",
      "50%       283.315000\n",
      "75%       443.000000\n",
      "max       782.220000\n",
      "Name: Stock Price, dtype: float64\n"
     ]
    }
   ],
   "source": [
    "#using describe function\n",
    "print(s.describe())"
   ]
  },
  {
   "cell_type": "code",
   "execution_count": 22,
   "metadata": {},
   "outputs": [
    {
     "name": "stdout",
     "output_type": "stream",
     "text": [
      "3011\n"
     ]
    }
   ],
   "source": [
    "#using count function\n",
    "print(s.idxmax())"
   ]
  },
  {
   "cell_type": "code",
   "execution_count": 23,
   "metadata": {},
   "outputs": [
    {
     "name": "stdout",
     "output_type": "stream",
     "text": [
      "11\n"
     ]
    }
   ],
   "source": [
    "#using idxmin function\n",
    "print(s.idxmin())"
   ]
  },
  {
   "cell_type": "code",
   "execution_count": 24,
   "metadata": {},
   "outputs": [
    {
     "name": "stdout",
     "output_type": "stream",
     "text": [
      "291.21    5\n",
      "288.47    3\n",
      "194.80    3\n",
      "Name: Stock Price, dtype: int64\n"
     ]
    }
   ],
   "source": [
    "#count of elements having value 3\n",
    "print(s.value_counts().head(3))"
   ]
  }
 ],
 "metadata": {
  "kernelspec": {
   "display_name": "Python 3",
   "language": "python",
   "name": "python3"
  },
  "language_info": {
   "codemirror_mode": {
    "name": "ipython",
    "version": 3
   },
   "file_extension": ".py",
   "mimetype": "text/x-python",
   "name": "python",
   "nbconvert_exporter": "python",
   "pygments_lexer": "ipython3",
   "version": "3.7.4"
  }
 },
 "nbformat": 4,
 "nbformat_minor": 2
}
