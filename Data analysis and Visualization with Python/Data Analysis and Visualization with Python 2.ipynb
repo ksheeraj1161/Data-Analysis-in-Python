{
 "cells": [
  {
   "cell_type": "markdown",
   "metadata": {},
   "source": [
    "# Data Analysis and Visualization with Python"
   ]
  },
  {
   "cell_type": "markdown",
   "metadata": {},
   "source": [
    "# 1. Storing DataFrame in CSV Format :\n",
    "Pandas provide to.csv('filename', index = \"False|True\") function to write DataFrame into a CSV file."
   ]
  },
  {
   "cell_type": "code",
   "execution_count": 5,
   "metadata": {},
   "outputs": [],
   "source": [
    "import pandas as pd\n",
    "\n",
    "# assigning three series to s1, s2, s3\n",
    "s1 = pd.Series([0, 4, 8])\n",
    "s2 = pd.Series([1, 5, 9])\n",
    "s3 = pd.Series([2, 6, 10])\n",
    "\n",
    "# taking index and column values\n",
    "dframe = pd.DataFrame([s1, s2, s3])\n",
    "\n",
    "# assign column name\n",
    "dframe.columns =['id', 'age', 'runs']\n",
    "\n",
    "# write data to csv file\n",
    "dframe.to_csv('test1.csv', index = False)  \n",
    "dframe.to_csv('test2.csv', index = True)  "
   ]
  },
  {
   "cell_type": "markdown",
   "metadata": {},
   "source": [
    "# 2. Handling Missing Data\n",
    "Drop the missing Data :"
   ]
  },
  {
   "cell_type": "code",
   "execution_count": 9,
   "metadata": {},
   "outputs": [
    {
     "name": "stdout",
     "output_type": "stream",
     "text": [
      "   id   age  runs\n",
      "0  23  10.0   0.0\n",
      "   id   age  runs\n",
      "0  23  10.0   0.0\n"
     ]
    }
   ],
   "source": [
    "import pandas as pd\n",
    "import numpy as np\n",
    "\n",
    "# Create a DataFrame\n",
    "dframe = pd.DataFrame({'id': [23, 24, 22],\n",
    "\t\t\t\t\t'age': [10, 12, np.nan],\n",
    "\t\t\t\t\t'runs': [0, np.nan, np.nan]},\n",
    "\t\t\t\t\tcolumns =['id', 'age', 'runs'])\n",
    "\n",
    "# This will remove all the\n",
    "# rows with NAN values\n",
    "\n",
    "# If axis is not defined then\n",
    "# it is along rows i.e. axis = 0\n",
    "dframe.dropna(inplace = True)\n",
    "print(dframe)\n",
    "\n",
    "# if axis is equal to 1\n",
    "dframe.dropna(axis = 1, inplace = True)\n",
    "\n",
    "print(dframe)\n"
   ]
  },
  {
   "cell_type": "markdown",
   "metadata": {},
   "source": [
    "Fill the missing values :\n",
    "To replace any NaN value with mean or mode of the data, fillna is used, which could replace all the NaN values from a particular column or even in whole DataFrame as per the requirement."
   ]
  },
  {
   "cell_type": "code",
   "execution_count": 10,
   "metadata": {},
   "outputs": [
    {
     "name": "stdout",
     "output_type": "stream",
     "text": [
      "   id   age  runs\n",
      "0  23  10.0   0.0\n",
      "1  24  12.0   0.0\n",
      "2  22  11.0   0.0\n",
      "   id   age  runs\n",
      "0  23  10.0   0.0\n",
      "1  24  12.0   0.0\n",
      "2  22  11.0   0.0\n"
     ]
    }
   ],
   "source": [
    "import numpy as np\n",
    "import pandas as pd\n",
    "\n",
    "# Create a DataFrame\n",
    "dframe = pd.DataFrame({'id': [23, 24, 22],\n",
    "\t\t\t\t\t\t'age': [10, 12, np.nan],\n",
    "\t\t\t\t\t\t'runs': [0, np.nan, np.nan]},\n",
    "\t\t\t\t\t\tcolumns = ['id', 'age', 'runs'])\n",
    "\n",
    "# Use fillna of complete Dataframe\n",
    "\n",
    "# value function will be applied on every column\n",
    "dframe.fillna(value = dframe.mean(), inplace = True)\n",
    "print(dframe)\n",
    "\n",
    "# filling value of one column\n",
    "dframe['age'].fillna(value = dframe['age'].mean(),\n",
    "\t\t\t\t\t\t\t\t\tinplace = True)\n",
    "print(dframe)"
   ]
  },
  {
   "cell_type": "markdown",
   "metadata": {},
   "source": [
    "# 3. Groupby Method (Aggregation) :\n",
    "\n",
    "The groupby method allows us to group together the data based off any row or column, thus we can further apply the aggregate functions to analyze our data. Group series using mapper (dict or key function, apply given function to group, return result as series) or by a series of columns."
   ]
  },
  {
   "cell_type": "code",
   "execution_count": 11,
   "metadata": {},
   "outputs": [
    {
     "name": "stdout",
     "output_type": "stream",
     "text": [
      "      id  age\n",
      "runs         \n",
      "112   24   16\n",
      "114   23   15\n",
      "122   23   14\n",
      "142   24   12\n"
     ]
    }
   ],
   "source": [
    "import pandas as pd\n",
    "import numpy as np\n",
    "\n",
    "# create DataFrame\n",
    "dframe = pd.DataFrame({'id': [23, 24, 22, 22, 23, 24],\n",
    "\t\t\t\t\t\t'age': [10, 12, 13, 14, 15, 16],\n",
    "\t\t\t\t\t\t'runs': [122, 142, 112, 122, 114, 112]},\n",
    "\t\t\t\t\t\tcolumns = ['id', 'age', 'runs'])\n",
    "\n",
    "# Apply groupby and aggregate function\n",
    "# max to find max value of column\n",
    "\n",
    "# &quot;For&quot; and column &quot;geeks&quot; for every\n",
    "# different value of column &quot;Geeks&quot;.\n",
    "\n",
    "print(dframe.groupby(['runs']).max())\n"
   ]
  }
 ],
 "metadata": {
  "kernelspec": {
   "display_name": "Python 3",
   "language": "python",
   "name": "python3"
  },
  "language_info": {
   "codemirror_mode": {
    "name": "ipython",
    "version": 3
   },
   "file_extension": ".py",
   "mimetype": "text/x-python",
   "name": "python",
   "nbconvert_exporter": "python",
   "pygments_lexer": "ipython3",
   "version": "3.7.4"
  }
 },
 "nbformat": 4,
 "nbformat_minor": 2
}
